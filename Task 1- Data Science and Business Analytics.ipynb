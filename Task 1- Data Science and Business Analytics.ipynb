{
 "cells": [
  {
   "cell_type": "markdown",
   "id": "feb30869",
   "metadata": {},
   "source": [
    "# Task 1: Predicting Student Scores Using Supervised ML"
   ]
  },
  {
   "cell_type": "markdown",
   "id": "45140954",
   "metadata": {},
   "source": [
    "**Author: Hadeel Yasser**\n"
   ]
  },
  {
   "cell_type": "markdown",
   "id": "2eeb19f8",
   "metadata": {},
   "source": [
    "Task description: the aim of this task is to build a linear regression model using machine learning to help in determing the relation between hours studied and a student's score which in the end could be used to build predictions"
   ]
  },
  {
   "cell_type": "code",
   "execution_count": 1,
   "id": "abaf4f27",
   "metadata": {},
   "outputs": [],
   "source": [
    "# importing all needed libararies to perform predictions\n",
    "import numpy as np\n",
    "import pandas as pd\n",
    "import matplotlib.pyplot as plt\n",
    "from sklearn.linear_model import LinearRegression\n",
    "from sklearn.model_selection import train_test_split\n",
    "from sklearn import metrics"
   ]
  },
  {
   "cell_type": "markdown",
   "id": "bd5a89a2",
   "metadata": {},
   "source": [
    "**Step 1: Import the Data**"
   ]
  },
  {
   "cell_type": "code",
   "execution_count": 3,
   "id": "464a4ca4",
   "metadata": {
    "scrolled": false
   },
   "outputs": [
    {
     "name": "stdout",
     "output_type": "stream",
     "text": [
      "    Hours  Scores\n",
      "0     2.5      21\n",
      "1     5.1      47\n",
      "2     3.2      27\n",
      "3     8.5      75\n",
      "4     3.5      30\n",
      "5     1.5      20\n",
      "6     9.2      88\n",
      "7     5.5      60\n",
      "8     8.3      81\n",
      "9     2.7      25\n",
      "10    7.7      85\n",
      "11    5.9      62\n",
      "12    4.5      41\n",
      "13    3.3      42\n",
      "14    1.1      17\n",
      "15    8.9      95\n",
      "16    2.5      30\n",
      "17    1.9      24\n",
      "18    6.1      67\n",
      "19    7.4      69\n",
      "20    2.7      30\n",
      "21    4.8      54\n",
      "22    3.8      35\n",
      "23    6.9      76\n",
      "24    7.8      86\n"
     ]
    }
   ],
   "source": [
    "# store the csv file into a string then pass it to the function read_csv to load data\n",
    "\n",
    "filePath=r'C:\\Users\\EGYPT_LAPTOP\\Desktop\\New Courses\\GRIP-Data analysis\\Task1_Linear Regression\\student_scores.csv'\n",
    "studentData= pd.read_csv(filePath)\n",
    "print(studentData)"
   ]
  },
  {
   "cell_type": "code",
   "execution_count": 4,
   "id": "39841b58",
   "metadata": {},
   "outputs": [
    {
     "name": "stdout",
     "output_type": "stream",
     "text": [
      "    Hours  Scores\n",
      "0     2.5      21\n",
      "1     5.1      47\n",
      "2     3.2      27\n",
      "3     8.5      75\n",
      "4     3.5      30\n",
      "5     1.5      20\n",
      "6     9.2      88\n",
      "7     5.5      60\n",
      "8     8.3      81\n",
      "9     2.7      25\n",
      "10    7.7      85\n",
      "11    5.9      62\n",
      "12    4.5      41\n",
      "13    3.3      42\n",
      "14    1.1      17\n"
     ]
    }
   ],
   "source": [
    " # the head function returns the first 5 values, passing a parameter can define how many values to return\n",
    "new_StudentData=studentData.head(15)\n",
    "print(new_StudentData)"
   ]
  },
  {
   "cell_type": "markdown",
   "id": "25b21514",
   "metadata": {},
   "source": [
    "**Step 2: visualize the imported data**"
   ]
  },
  {
   "cell_type": "code",
   "execution_count": 6,
   "id": "a3c110ad",
   "metadata": {},
   "outputs": [
    {
     "data": {
      "image/png": "[encoded data removed]",
      "text/plain": [
       "<Figure size 432x288 with 1 Axes>"
      ]
     },
     "metadata": {
      "needs_background": "light"
     },
     "output_type": "display_data"
    }
   ],
   "source": [
    "# plotting the imported data using matplotlib\n",
    "\n",
    "studentData.plot(x=\"Hours\", y=\"Scores\", style='x')\n",
    "plt.title(\"Scores in respect to Hours\")\n",
    "plt.xlabel(\"Hours studied by students\")\n",
    "plt.ylabel(\"Scores Achieved\")\n",
    "plt.grid()\n",
    "plt.show()"
   ]
  },
  {
   "cell_type": "code",
   "execution_count": 7,
   "id": "863395de",
   "metadata": {},
   "outputs": [
    {
     "name": "stdout",
     "output_type": "stream",
     "text": [
      "           Hours    Scores\n",
      "Hours   1.000000  0.976191\n",
      "Scores  0.976191  1.000000\n"
     ]
    }
   ],
   "source": [
    "# determine the correlation between the dependent and independent variables\n",
    "\n",
    "print(studentData.corr()) # output shows a positive correlation"
   ]
  },
  {
   "cell_type": "markdown",
   "id": "fd22f638",
   "metadata": {},
   "source": [
    "**Step 3: Prepare the data**\n"
   ]
  },
  {
   "cell_type": "code",
   "execution_count": 10,
   "id": "e643f55a",
   "metadata": {},
   "outputs": [
    {
     "name": "stdout",
     "output_type": "stream",
     "text": [
      "X: independent variable \n",
      " [[2.5]\n",
      " [5.1]\n",
      " [3.2]\n",
      " [8.5]\n",
      " [3.5]\n",
      " [1.5]\n",
      " [9.2]\n",
      " [5.5]\n",
      " [8.3]\n",
      " [2.7]\n",
      " [7.7]\n",
      " [5.9]\n",
      " [4.5]\n",
      " [3.3]\n",
      " [1.1]\n",
      " [8.9]\n",
      " [2.5]\n",
      " [1.9]\n",
      " [6.1]\n",
      " [7.4]\n",
      " [2.7]\n",
      " [4.8]\n",
      " [3.8]\n",
      " [6.9]\n",
      " [7.8]]\n",
      "Y: dependent variable \n",
      " [[21]\n",
      " [47]\n",
      " [27]\n",
      " [75]\n",
      " [30]\n",
      " [20]\n",
      " [88]\n",
      " [60]\n",
      " [81]\n",
      " [25]\n",
      " [85]\n",
      " [62]\n",
      " [41]\n",
      " [42]\n",
      " [17]\n",
      " [95]\n",
      " [30]\n",
      " [24]\n",
      " [67]\n",
      " [69]\n",
      " [30]\n",
      " [54]\n",
      " [35]\n",
      " [76]\n",
      " [86]]\n"
     ]
    }
   ],
   "source": [
    "# divide the data into input data (independent) and output data (dependent)\n",
    " # store the x values (hours) 'independent' in a list, extract from csv. Same goes for the dependent values\n",
    "\n",
    "independent= studentData.iloc[:,0:1].values # 0 is the start column, 1 end column to select values upon\n",
    "print(\"X: independent variable\",\"\\n\",independent)\n",
    "dependent = studentData.iloc[:,1:2].values\n",
    "print(\"Y: dependent variable\",\"\\n\",dependent)"
   ]
  },
  {
   "cell_type": "code",
   "execution_count": 12,
   "id": "8c8afe69",
   "metadata": {},
   "outputs": [
    {
     "name": "stdout",
     "output_type": "stream",
     "text": [
      "\n",
      "\n",
      "X_train:  [[7.8]\n",
      " [6.9]\n",
      " [1.1]\n",
      " [5.1]\n",
      " [7.7]\n",
      " [3.3]\n",
      " [8.3]\n",
      " [9.2]\n",
      " [6.1]\n",
      " [3.5]\n",
      " [2.7]\n",
      " [5.5]\n",
      " [2.7]\n",
      " [8.5]\n",
      " [2.5]\n",
      " [4.8]\n",
      " [8.9]\n",
      " [4.5]]\n",
      "\n",
      "\n",
      "y_train:  [[86]\n",
      " [76]\n",
      " [17]\n",
      " [47]\n",
      " [85]\n",
      " [42]\n",
      " [81]\n",
      " [88]\n",
      " [67]\n",
      " [30]\n",
      " [25]\n",
      " [60]\n",
      " [30]\n",
      " [75]\n",
      " [21]\n",
      " [54]\n",
      " [95]\n",
      " [41]]\n",
      "\n",
      "\n",
      "X_test:  [[1.5]\n",
      " [3.2]\n",
      " [7.4]\n",
      " [2.5]\n",
      " [5.9]\n",
      " [3.8]\n",
      " [1.9]]\n",
      "\n",
      "\n",
      "y_test:  [[20]\n",
      " [27]\n",
      " [69]\n",
      " [30]\n",
      " [62]\n",
      " [35]\n",
      " [24]]\n",
      "\n",
      "\n"
     ]
    }
   ],
   "source": [
    "# split data into training and testing data by using Scikit-Learn (because there is only 1 dataset to test )\n",
    " # (the accuracy of the predictiont, there doesn't exist another dataset that could be used for testing)\n",
    "\n",
    "x_train, x_test, y_train, y_test= train_test_split(independent,dependent,train_size=None, test_size=0.25, random_state=0) \n",
    "print(\"\\n\")\n",
    "print (\"X_train: \", x_train) \n",
    "print(\"\\n\")\n",
    "print (\"y_train: \", y_train)\n",
    "print(\"\\n\")\n",
    "print(\"X_test: \", x_test) #  testing data in hours\n",
    "print(\"\\n\")\n",
    "print (\"y_test: \", y_test) # testing data in scores\n",
    "print(\"\\n\")"
   ]
  },
  {
   "cell_type": "markdown",
   "id": "b31bf622",
   "metadata": {},
   "source": [
    "**Step 4: Training the algorithm**"
   ]
  },
  {
   "cell_type": "code",
   "execution_count": 13,
   "id": "dc3b390c",
   "metadata": {},
   "outputs": [
    {
     "name": "stdout",
     "output_type": "stream",
     "text": [
      "Training Complete\n"
     ]
    }
   ],
   "source": [
    "# create a linearRegression object that would store the to be fitted data\n",
    "regressor= LinearRegression()\n",
    "\n",
    "  # train the model using the training data sets\n",
    "regressor.fit(x_train,y_train)\n",
    "print(\"Training Complete\")"
   ]
  },
  {
   "cell_type": "markdown",
   "id": "78a8fe5e",
   "metadata": {},
   "source": [
    "**Step 5: Visualizing the training model**"
   ]
  },
  {
   "cell_type": "code",
   "execution_count": 15,
   "id": "2f3af263",
   "metadata": {},
   "outputs": [
    {
     "data": {
      "image/png": "[encoded data removed]",
      "text/plain": [
       "<Figure size 432x288 with 1 Axes>"
      ]
     },
     "metadata": {
      "needs_background": "light"
     },
     "output_type": "display_data"
    }
   ],
   "source": [
    "# defining the regression line (coef is the x values, intercept as in Y intercept)\n",
    "regressionLine= regressor.coef_*independent + regressor.intercept_\n",
    "\n",
    "  # plotting the training dataset and the regression line\n",
    "plt.scatter(x_train,y_train, color='blue')\n",
    "plt.plot(independent,regressionLine,color='red')\n",
    "plt.grid()\n",
    "  # Plotting testing data then displaying both train and test data\n",
    "plt.scatter(x_test,y_test, color='green')\n",
    "plt.show()"
   ]
  },
  {
   "cell_type": "markdown",
   "id": "f6e02235",
   "metadata": {},
   "source": [
    "**Step 6: Data Prediction**"
   ]
  },
  {
   "cell_type": "code",
   "execution_count": 17,
   "id": "c49bd6ec",
   "metadata": {},
   "outputs": [
    {
     "name": "stdout",
     "output_type": "stream",
     "text": [
      "[[16.84472176]\n",
      " [33.74557494]\n",
      " [75.50062397]\n",
      " [26.7864001 ]\n",
      " [60.58810646]\n",
      " [39.71058194]\n",
      " [20.8213931 ]]\n",
      "\n",
      "\n",
      "   Actual  Predicted\n",
      "1      20  16.844722\n",
      "2      27  33.745575\n",
      "3      69  75.500624\n",
      "4      30  26.786400\n",
      "5      62  60.588106\n",
      "6      35  39.710582\n",
      "7      24  20.821393\n"
     ]
    }
   ],
   "source": [
    " # predict the scores based on the number of hours in the testing data\n",
    "scoresPrediction= regressor.predict(x_test)\n",
    "print(scoresPrediction)\n",
    "print(\"\\n\")\n",
    "  # comparing predicted scores with actual by using pandas\n",
    "\n",
    "d1 = dict(enumerate(y_test.flatten(), 1)) # store the nparray in a dictionary\n",
    "d2=dict(enumerate(scoresPrediction.flatten(), 1))\n",
    "table= pd.DataFrame({'Actual': d1, 'Predicted': d2})\n",
    "print(table)"
   ]
  },
  {
   "cell_type": "code",
   "execution_count": 18,
   "id": "46724f40",
   "metadata": {},
   "outputs": [
    {
     "name": "stdout",
     "output_type": "stream",
     "text": [
      "Number of Hours Studied = 9.25 will result in a Score of [93.89272889]\n"
     ]
    }
   ],
   "source": [
    "# test the model with your own data\n",
    "newHours=9.25\n",
    "myPrediction= regressor.predict([[newHours]])\n",
    "print(\"Number of Hours Studied =\",newHours, \"will result in a Score of\", myPrediction[0])"
   ]
  },
  {
   "cell_type": "markdown",
   "id": "8e91b3cb",
   "metadata": {},
   "source": [
    "**Step 7: Model Evaluation**"
   ]
  },
  {
   "cell_type": "code",
   "execution_count": 19,
   "id": "0f8e0e52",
   "metadata": {},
   "outputs": [
    {
     "name": "stdout",
     "output_type": "stream",
     "text": [
      "The mean absolute error of this model is 4.130879918502486\n"
     ]
    }
   ],
   "source": [
    " # Evaluate the effectivness of the Linear Regression Model\n",
    " # mean square error metric will be used as a measure of accuracy\n",
    "error= metrics.mean_absolute_error(y_test,scoresPrediction)\n",
    "print(\"The mean absolute error of this model is\",error)"
   ]
  },
  {
   "cell_type": "code",
   "execution_count": null,
   "id": "a6932c23",
   "metadata": {},
   "outputs": [],
   "source": []
  }
 ],
 "metadata": {
  "kernelspec": {
   "display_name": "Python 3 (ipykernel)",
   "language": "python",
   "name": "python3"
  },
  "language_info": {
   "codemirror_mode": {
    "name": "ipython",
    "version": 3
   },
   "file_extension": ".py",
   "mimetype": "text/x-python",
   "name": "python",
   "nbconvert_exporter": "python",
   "pygments_lexer": "ipython3",
   "version": "3.9.12"
  }
 },
 "nbformat": 4,
 "nbformat_minor": 5
}
